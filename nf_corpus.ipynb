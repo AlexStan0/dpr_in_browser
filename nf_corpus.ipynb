{
 "cells": [
  {
   "cell_type": "markdown",
   "metadata": {},
   "source": [
    "# Prepare the data for NF-Corpus"
   ]
  },
  {
   "cell_type": "markdown",
   "metadata": {},
   "source": [
    "Fetch the data"
   ]
  },
  {
   "cell_type": "code",
   "execution_count": 1,
   "metadata": {
    "vscode": {
     "languageId": "powershell"
    }
   },
   "outputs": [
    {
     "name": "stdout",
     "output_type": "stream",
     "text": [
      "--2024-04-16 11:12:49--  https://public.ukp.informatik.tu-darmstadt.de/thakur/BEIR/datasets/nfcorpus.zip\n",
      "Resolving public.ukp.informatik.tu-darmstadt.de (public.ukp.informatik.tu-darmstadt.de)... 130.83.167.186, 130.83.22.61, 130.83.56.61, ...\n",
      "Connecting to public.ukp.informatik.tu-darmstadt.de (public.ukp.informatik.tu-darmstadt.de)|130.83.167.186|:443... connected.\n",
      "HTTP request sent, awaiting response... 200 OK\n",
      "Length: 2448432 (2.3M) [application/zip]\n",
      "Saving to: ‘collections/nfcorpus.zip’\n",
      "\n",
      "nfcorpus.zip        100%[===================>]   2.33M  3.24MB/s    in 0.7s    \n",
      "\n",
      "2024-04-16 11:12:51 (3.24 MB/s) - ‘collections/nfcorpus.zip’ saved [2448432/2448432]\n",
      "\n"
     ]
    }
   ],
   "source": [
    "!wget https://public.ukp.informatik.tu-darmstadt.de/thakur/BEIR/datasets/nfcorpus.zip -P collections"
   ]
  },
  {
   "cell_type": "markdown",
   "metadata": {},
   "source": [
    "Unzip the data"
   ]
  },
  {
   "cell_type": "code",
   "execution_count": 4,
   "metadata": {
    "vscode": {
     "languageId": "powershell"
    }
   },
   "outputs": [
    {
     "name": "stdout",
     "output_type": "stream",
     "text": [
      "Archive:  collections/nfcorpus.zip\n",
      "   creating: collections/nfcorpus/\n",
      "   creating: collections/nfcorpus/qrels/\n",
      "  inflating: collections/nfcorpus/qrels/train.tsv  \n",
      "  inflating: collections/nfcorpus/qrels/test.tsv  \n",
      "  inflating: collections/nfcorpus/qrels/dev.tsv  \n",
      "  inflating: collections/nfcorpus/corpus.jsonl  \n",
      "  inflating: collections/nfcorpus/queries.jsonl  \n"
     ]
    }
   ],
   "source": [
    "!unzip collections/nfcorpus.zip -d collections"
   ]
  }
 ],
 "metadata": {
  "kernelspec": {
   "display_name": "dpr",
   "language": "python",
   "name": "python3"
  },
  "language_info": {
   "codemirror_mode": {
    "name": "ipython",
    "version": 3
   },
   "file_extension": ".py",
   "mimetype": "text/x-python",
   "name": "python",
   "nbconvert_exporter": "python",
   "pygments_lexer": "ipython3",
   "version": "3.8.18"
  }
 },
 "nbformat": 4,
 "nbformat_minor": 2
}
